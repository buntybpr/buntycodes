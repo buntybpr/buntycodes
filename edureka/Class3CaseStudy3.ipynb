{
 "cells": [
  {
   "cell_type": "markdown",
   "id": "48ec09a8",
   "metadata": {},
   "source": [
    "3.Store the data in Customer Class\n",
    "4.Create Custom Exception –CustomerNotAllowedException\n",
    "Pass a customer to function \"createOrder\" and throw CustomerNotAllowedException in case of blacklisted value is 1\n",
    "1.Change function createOrder to take productname and product code as input2.Create Class OrderReturn object of type Order in case customer is eligible\n"
   ]
  },
  {
   "cell_type": "code",
   "execution_count": 33,
   "id": "c5d6486e",
   "metadata": {},
   "outputs": [
    {
     "data": {
      "text/html": [
       "<div>\n",
       "<style scoped>\n",
       "    .dataframe tbody tr th:only-of-type {\n",
       "        vertical-align: middle;\n",
       "    }\n",
       "\n",
       "    .dataframe tbody tr th {\n",
       "        vertical-align: top;\n",
       "    }\n",
       "\n",
       "    .dataframe thead th {\n",
       "        text-align: right;\n",
       "    }\n",
       "</style>\n",
       "<table border=\"1\" class=\"dataframe\">\n",
       "  <thead>\n",
       "    <tr style=\"text-align: right;\">\n",
       "      <th></th>\n",
       "      <th>product</th>\n",
       "      <th>fullname</th>\n",
       "      <th>blacklist</th>\n",
       "    </tr>\n",
       "  </thead>\n",
       "  <tbody>\n",
       "    <tr>\n",
       "      <th>0</th>\n",
       "      <td>Braund</td>\n",
       "      <td>Mr. Owen Harris</td>\n",
       "      <td>1</td>\n",
       "    </tr>\n",
       "    <tr>\n",
       "      <th>1</th>\n",
       "      <td>Heikkinen</td>\n",
       "      <td>Miss. Laina</td>\n",
       "      <td>0</td>\n",
       "    </tr>\n",
       "    <tr>\n",
       "      <th>2</th>\n",
       "      <td>Allen</td>\n",
       "      <td>Mr. William Henry</td>\n",
       "      <td>0</td>\n",
       "    </tr>\n",
       "    <tr>\n",
       "      <th>3</th>\n",
       "      <td>Moran</td>\n",
       "      <td>Mr. James</td>\n",
       "      <td>0</td>\n",
       "    </tr>\n",
       "    <tr>\n",
       "      <th>4</th>\n",
       "      <td>McCarthy</td>\n",
       "      <td>Mr. Timothy J</td>\n",
       "      <td>0</td>\n",
       "    </tr>\n",
       "  </tbody>\n",
       "</table>\n",
       "</div>"
      ],
      "text/plain": [
       "      product             fullname  blacklist\n",
       "0      Braund     Mr. Owen Harris           1\n",
       "1   Heikkinen         Miss. Laina           0\n",
       "2       Allen   Mr. William Henry           0\n",
       "3       Moran           Mr. James           0\n",
       "4    McCarthy       Mr. Timothy J           0"
      ]
     },
     "execution_count": 33,
     "metadata": {},
     "output_type": "execute_result"
    }
   ],
   "source": [
    "import pandas as pd\n",
    "import re \n",
    "csv_data = pd.read_csv('D:/gitrepo/buntycodes/edureka/FairDealCustomerData.csv',names=['product','fullname','blacklist'])\n",
    "csv_data.head()"
   ]
  },
  {
   "cell_type": "code",
   "execution_count": 34,
   "id": "eaa0af72",
   "metadata": {},
   "outputs": [],
   "source": [
    "class Order:\n",
    "    def __init__(self, productname, productcode):\n",
    "        self.productname = productname\n",
    "        self.productcode = productcode\n",
    "\n",
    "class Customer:\n",
    "    def __init__(self, productname, customername, isblacklisted):\n",
    "        self.productname = productname\n",
    "        self.customername = customername\n",
    "        self.isblacklisted = isblacklisted\n",
    "\n",
    "    def createOrder(self, productname, productcode):\n",
    "        if self.isblacklisted:\n",
    "            raise CustomerNotAllowedException(\n",
    "                \"Customer is not allowed to create the order because it is blacklisted.\")\n",
    "\n",
    "        order = Order(productname, productcode)\n",
    "\n",
    "        return "
   ]
  },
  {
   "cell_type": "code",
   "execution_count": 35,
   "id": "1f933692",
   "metadata": {},
   "outputs": [
    {
     "data": {
      "text/html": [
       "<div>\n",
       "<style scoped>\n",
       "    .dataframe tbody tr th:only-of-type {\n",
       "        vertical-align: middle;\n",
       "    }\n",
       "\n",
       "    .dataframe tbody tr th {\n",
       "        vertical-align: top;\n",
       "    }\n",
       "\n",
       "    .dataframe thead th {\n",
       "        text-align: right;\n",
       "    }\n",
       "</style>\n",
       "<table border=\"1\" class=\"dataframe\">\n",
       "  <thead>\n",
       "    <tr style=\"text-align: right;\">\n",
       "      <th></th>\n",
       "      <th>product</th>\n",
       "      <th>fullname</th>\n",
       "      <th>blacklist</th>\n",
       "    </tr>\n",
       "  </thead>\n",
       "  <tbody>\n",
       "    <tr>\n",
       "      <th>0</th>\n",
       "      <td>Braund</td>\n",
       "      <td>Mr. Owen Harris</td>\n",
       "      <td>1</td>\n",
       "    </tr>\n",
       "    <tr>\n",
       "      <th>1</th>\n",
       "      <td>Heikkinen</td>\n",
       "      <td>Miss. Laina</td>\n",
       "      <td>0</td>\n",
       "    </tr>\n",
       "    <tr>\n",
       "      <th>2</th>\n",
       "      <td>Allen</td>\n",
       "      <td>Mr. William Henry</td>\n",
       "      <td>0</td>\n",
       "    </tr>\n",
       "    <tr>\n",
       "      <th>3</th>\n",
       "      <td>Moran</td>\n",
       "      <td>Mr. James</td>\n",
       "      <td>0</td>\n",
       "    </tr>\n",
       "    <tr>\n",
       "      <th>4</th>\n",
       "      <td>McCarthy</td>\n",
       "      <td>Mr. Timothy J</td>\n",
       "      <td>0</td>\n",
       "    </tr>\n",
       "  </tbody>\n",
       "</table>\n",
       "</div>"
      ],
      "text/plain": [
       "      product             fullname  blacklist\n",
       "0      Braund     Mr. Owen Harris           1\n",
       "1   Heikkinen         Miss. Laina           0\n",
       "2       Allen   Mr. William Henry           0\n",
       "3       Moran           Mr. James           0\n",
       "4    McCarthy       Mr. Timothy J           0"
      ]
     },
     "execution_count": 35,
     "metadata": {},
     "output_type": "execute_result"
    }
   ],
   "source": [
    "csv_data.head()"
   ]
  },
  {
   "cell_type": "code",
   "execution_count": 39,
   "id": "1ac79c48",
   "metadata": {},
   "outputs": [
    {
     "name": "stdout",
     "output_type": "stream",
     "text": [
      "[]\n"
     ]
    }
   ],
   "source": [
    "# Full name customers\n",
    "fullname_data = list([data for data in csv_data if re.match(\n",
    "    r\"([a-zA-Z].+)\\s(\\w+)\\s(\\w+)\", data[1].strip(), re.IGNORECASE)])\n",
    "print(fullname_data)\n",
    "# Adding cutomers data to GoodsKart data\n",
    "customerList = []\n",
    "for data in fullname_data:\n",
    "    customerList.append(Customer(productname=data[0].strip(\n",
    "    ), customername=data[1].strip(), isblacklisted=bool(data[2].strip())))\n",
    "\n",
    "# Check whether the customer is allowed to create the order or not?\n",
    "customer = Customer(productname=\"Apple\",customername=\"Mr. Bunty Ramrakhyani\", isblacklisted=True)\n"
   ]
  }
 ],
 "metadata": {
  "kernelspec": {
   "display_name": "Python 3 (ipykernel)",
   "language": "python",
   "name": "python3"
  },
  "language_info": {
   "codemirror_mode": {
    "name": "ipython",
    "version": 3
   },
   "file_extension": ".py",
   "mimetype": "text/x-python",
   "name": "python",
   "nbconvert_exporter": "python",
   "pygments_lexer": "ipython3",
   "version": "3.9.12"
  }
 },
 "nbformat": 4,
 "nbformat_minor": 5
}
