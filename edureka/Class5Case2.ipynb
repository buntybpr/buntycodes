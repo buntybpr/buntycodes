{
 "cells": [
  {
   "cell_type": "code",
   "execution_count": 8,
   "id": "9b966483",
   "metadata": {},
   "outputs": [],
   "source": [
    "import pandas as pd\n",
    "import numpy as np"
   ]
  },
  {
   "cell_type": "code",
   "execution_count": 9,
   "id": "e101b34e",
   "metadata": {},
   "outputs": [
    {
     "name": "stderr",
     "output_type": "stream",
     "text": [
      "C:\\Users\\bunty\\AppData\\Local\\Temp\\ipykernel_10296\\389377004.py:1: DtypeWarning: Columns (12) have mixed types. Specify dtype option on import or set low_memory=False.\n",
      "  df = pd.read_csv('D:/gitrepo/buntycodes/edureka/DataManipulation_Datasets/Salaries.csv')\n"
     ]
    },
    {
     "data": {
      "text/html": [
       "<div>\n",
       "<style scoped>\n",
       "    .dataframe tbody tr th:only-of-type {\n",
       "        vertical-align: middle;\n",
       "    }\n",
       "\n",
       "    .dataframe tbody tr th {\n",
       "        vertical-align: top;\n",
       "    }\n",
       "\n",
       "    .dataframe thead th {\n",
       "        text-align: right;\n",
       "    }\n",
       "</style>\n",
       "<table border=\"1\" class=\"dataframe\">\n",
       "  <thead>\n",
       "    <tr style=\"text-align: right;\">\n",
       "      <th></th>\n",
       "      <th>Id</th>\n",
       "      <th>EmployeeName</th>\n",
       "      <th>JobTitle</th>\n",
       "      <th>BasePay</th>\n",
       "      <th>OvertimePay</th>\n",
       "      <th>OtherPay</th>\n",
       "      <th>Benefits</th>\n",
       "      <th>TotalPay</th>\n",
       "      <th>TotalPayBenefits</th>\n",
       "      <th>Year</th>\n",
       "      <th>Notes</th>\n",
       "      <th>Agency</th>\n",
       "      <th>Status</th>\n",
       "    </tr>\n",
       "  </thead>\n",
       "  <tbody>\n",
       "    <tr>\n",
       "      <th>0</th>\n",
       "      <td>1</td>\n",
       "      <td>NATHANIEL FORD</td>\n",
       "      <td>GENERAL MANAGER-METROPOLITAN TRANSIT AUTHORITY</td>\n",
       "      <td>167411.18</td>\n",
       "      <td>0.00</td>\n",
       "      <td>400184.25</td>\n",
       "      <td>NaN</td>\n",
       "      <td>567595.43</td>\n",
       "      <td>567595.43</td>\n",
       "      <td>2011</td>\n",
       "      <td>NaN</td>\n",
       "      <td>San Francisco</td>\n",
       "      <td>NaN</td>\n",
       "    </tr>\n",
       "    <tr>\n",
       "      <th>1</th>\n",
       "      <td>2</td>\n",
       "      <td>GARY JIMENEZ</td>\n",
       "      <td>CAPTAIN III (POLICE DEPARTMENT)</td>\n",
       "      <td>155966.02</td>\n",
       "      <td>245131.88</td>\n",
       "      <td>137811.38</td>\n",
       "      <td>NaN</td>\n",
       "      <td>538909.28</td>\n",
       "      <td>538909.28</td>\n",
       "      <td>2011</td>\n",
       "      <td>NaN</td>\n",
       "      <td>San Francisco</td>\n",
       "      <td>NaN</td>\n",
       "    </tr>\n",
       "    <tr>\n",
       "      <th>2</th>\n",
       "      <td>3</td>\n",
       "      <td>ALBERT PARDINI</td>\n",
       "      <td>CAPTAIN III (POLICE DEPARTMENT)</td>\n",
       "      <td>212739.13</td>\n",
       "      <td>106088.18</td>\n",
       "      <td>16452.60</td>\n",
       "      <td>NaN</td>\n",
       "      <td>335279.91</td>\n",
       "      <td>335279.91</td>\n",
       "      <td>2011</td>\n",
       "      <td>NaN</td>\n",
       "      <td>San Francisco</td>\n",
       "      <td>NaN</td>\n",
       "    </tr>\n",
       "    <tr>\n",
       "      <th>3</th>\n",
       "      <td>4</td>\n",
       "      <td>CHRISTOPHER CHONG</td>\n",
       "      <td>WIRE ROPE CABLE MAINTENANCE MECHANIC</td>\n",
       "      <td>77916.00</td>\n",
       "      <td>56120.71</td>\n",
       "      <td>198306.90</td>\n",
       "      <td>NaN</td>\n",
       "      <td>332343.61</td>\n",
       "      <td>332343.61</td>\n",
       "      <td>2011</td>\n",
       "      <td>NaN</td>\n",
       "      <td>San Francisco</td>\n",
       "      <td>NaN</td>\n",
       "    </tr>\n",
       "    <tr>\n",
       "      <th>4</th>\n",
       "      <td>5</td>\n",
       "      <td>PATRICK GARDNER</td>\n",
       "      <td>DEPUTY CHIEF OF DEPARTMENT,(FIRE DEPARTMENT)</td>\n",
       "      <td>134401.60</td>\n",
       "      <td>9737.00</td>\n",
       "      <td>182234.59</td>\n",
       "      <td>NaN</td>\n",
       "      <td>326373.19</td>\n",
       "      <td>326373.19</td>\n",
       "      <td>2011</td>\n",
       "      <td>NaN</td>\n",
       "      <td>San Francisco</td>\n",
       "      <td>NaN</td>\n",
       "    </tr>\n",
       "  </tbody>\n",
       "</table>\n",
       "</div>"
      ],
      "text/plain": [
       "   Id       EmployeeName                                        JobTitle  \\\n",
       "0   1     NATHANIEL FORD  GENERAL MANAGER-METROPOLITAN TRANSIT AUTHORITY   \n",
       "1   2       GARY JIMENEZ                 CAPTAIN III (POLICE DEPARTMENT)   \n",
       "2   3     ALBERT PARDINI                 CAPTAIN III (POLICE DEPARTMENT)   \n",
       "3   4  CHRISTOPHER CHONG            WIRE ROPE CABLE MAINTENANCE MECHANIC   \n",
       "4   5    PATRICK GARDNER    DEPUTY CHIEF OF DEPARTMENT,(FIRE DEPARTMENT)   \n",
       "\n",
       "     BasePay  OvertimePay   OtherPay  Benefits   TotalPay  TotalPayBenefits  \\\n",
       "0  167411.18         0.00  400184.25       NaN  567595.43         567595.43   \n",
       "1  155966.02    245131.88  137811.38       NaN  538909.28         538909.28   \n",
       "2  212739.13    106088.18   16452.60       NaN  335279.91         335279.91   \n",
       "3   77916.00     56120.71  198306.90       NaN  332343.61         332343.61   \n",
       "4  134401.60      9737.00  182234.59       NaN  326373.19         326373.19   \n",
       "\n",
       "   Year  Notes         Agency Status  \n",
       "0  2011    NaN  San Francisco    NaN  \n",
       "1  2011    NaN  San Francisco    NaN  \n",
       "2  2011    NaN  San Francisco    NaN  \n",
       "3  2011    NaN  San Francisco    NaN  \n",
       "4  2011    NaN  San Francisco    NaN  "
      ]
     },
     "execution_count": 9,
     "metadata": {},
     "output_type": "execute_result"
    }
   ],
   "source": [
    "df = pd.read_csv('D:/gitrepo/buntycodes/edureka/DataManipulation_Datasets/Salaries.csv')\n",
    "df.head()"
   ]
  },
  {
   "cell_type": "code",
   "execution_count": 3,
   "id": "247941cf",
   "metadata": {},
   "outputs": [
    {
     "name": "stdout",
     "output_type": "stream",
     "text": [
      "-282797920.54000044\n"
     ]
    }
   ],
   "source": [
    "#Compute how much total salary cost has increased from the year 2011 to 2014\n",
    "dfg = df[['Year','TotalPay']].groupby('Year').sum()\n",
    "print(dfg.query(\"Year == 2011\")[\"TotalPay\"].sum() -dfg.query(\"Year == 2014\")[\"TotalPay\"].sum())"
   ]
  },
  {
   "cell_type": "code",
   "execution_count": 4,
   "id": "63854868",
   "metadata": {},
   "outputs": [
    {
     "data": {
      "text/html": [
       "<div>\n",
       "<style scoped>\n",
       "    .dataframe tbody tr th:only-of-type {\n",
       "        vertical-align: middle;\n",
       "    }\n",
       "\n",
       "    .dataframe tbody tr th {\n",
       "        vertical-align: top;\n",
       "    }\n",
       "\n",
       "    .dataframe thead th {\n",
       "        text-align: right;\n",
       "    }\n",
       "</style>\n",
       "<table border=\"1\" class=\"dataframe\">\n",
       "  <thead>\n",
       "    <tr style=\"text-align: right;\">\n",
       "      <th></th>\n",
       "      <th>TotalPay</th>\n",
       "    </tr>\n",
       "    <tr>\n",
       "      <th>JobTitle</th>\n",
       "      <th></th>\n",
       "    </tr>\n",
       "  </thead>\n",
       "  <tbody>\n",
       "    <tr>\n",
       "      <th>GENERAL MANAGER-METROPOLITAN TRANSIT AUTHORITY</th>\n",
       "      <td>399211.275</td>\n",
       "    </tr>\n",
       "  </tbody>\n",
       "</table>\n",
       "</div>"
      ],
      "text/plain": [
       "                                                  TotalPay\n",
       "JobTitle                                                  \n",
       "GENERAL MANAGER-METROPOLITAN TRANSIT AUTHORITY  399211.275"
      ]
     },
     "execution_count": 4,
     "metadata": {},
     "output_type": "execute_result"
    }
   ],
   "source": [
    "#Which Job Title in the Year 2014 has the highest mean salary\n",
    "dfg = df[['JobTitle','TotalPay']].groupby('JobTitle').mean()\n",
    "dfg.sort_values(by = 'TotalPay' , ascending= False, inplace=True)\n",
    "dfg.head(1)"
   ]
  },
  {
   "cell_type": "code",
   "execution_count": 5,
   "id": "2c206c2c",
   "metadata": {},
   "outputs": [
    {
     "name": "stdout",
     "output_type": "stream",
     "text": [
      "205918599.27 money could have been saved in Year 2014 by stopping OverTimePay\n"
     ]
    }
   ],
   "source": [
    "grouped_df_overTime = df.groupby([\"Year\"]).agg(\n",
    "    \"sum\").filter([\"OvertimePay\"]).query(\"Year == 2014\")\n",
    "\n",
    "print(str(float(grouped_df_overTime[\"OvertimePay\"])) +       \" money could have been saved in Year 2014 by stopping OverTimePay\")"
   ]
  },
  {
   "cell_type": "code",
   "execution_count": 6,
   "id": "e6021549",
   "metadata": {},
   "outputs": [
    {
     "name": "stdout",
     "output_type": "stream",
     "text": [
      "                      TotalPay\n",
      "JobTitle                      \n",
      "Transit Operator  4.553076e+08\n",
      "Registered Nurse  4.322574e+08\n",
      "Firefighter       3.441351e+08\n",
      "Police Officer 3  3.266096e+08\n",
      "Deputy Sheriff    2.120763e+08\n"
     ]
    },
    {
     "data": {
      "text/plain": [
       "TotalPay    1.770386e+09\n",
       "dtype: float64"
      ]
     },
     "execution_count": 6,
     "metadata": {},
     "output_type": "execute_result"
    }
   ],
   "source": [
    "#Which are the top 5 common jobsin the Year 2014 and how much do they cost SFO\n",
    "dfj = df[['JobTitle','TotalPay']].groupby('JobTitle').sum()\n",
    "dfj.sort_values(by = 'TotalPay' , ascending=False,inplace=True)\n",
    "print(dfj.head(5))\n",
    "dfj.head(5).sum()"
   ]
  },
  {
   "cell_type": "code",
   "execution_count": 13,
   "id": "8d3ce8a6",
   "metadata": {},
   "outputs": [
    {
     "name": "stdout",
     "output_type": "stream",
     "text": [
      "sar\n"
     ]
    },
    {
     "data": {
      "text/html": [
       "<div>\n",
       "<style scoped>\n",
       "    .dataframe tbody tr th:only-of-type {\n",
       "        vertical-align: middle;\n",
       "    }\n",
       "\n",
       "    .dataframe tbody tr th {\n",
       "        vertical-align: top;\n",
       "    }\n",
       "\n",
       "    .dataframe thead th {\n",
       "        text-align: right;\n",
       "    }\n",
       "</style>\n",
       "<table border=\"1\" class=\"dataframe\">\n",
       "  <thead>\n",
       "    <tr style=\"text-align: right;\">\n",
       "      <th></th>\n",
       "      <th></th>\n",
       "      <th></th>\n",
       "    </tr>\n",
       "    <tr>\n",
       "      <th>Year</th>\n",
       "      <th>TotalPay</th>\n",
       "      <th>EmployeeName</th>\n",
       "    </tr>\n",
       "  </thead>\n",
       "  <tbody>\n",
       "    <tr>\n",
       "      <th rowspan=\"5\" valign=\"top\">2011</th>\n",
       "      <th rowspan=\"3\" valign=\"top\">0.00</th>\n",
       "      <th>JOSEPHINE MCCREARY</th>\n",
       "    </tr>\n",
       "    <tr>\n",
       "      <th>KAUKAB MOHSIN</th>\n",
       "    </tr>\n",
       "    <tr>\n",
       "      <th>PAULETTE ADAMS</th>\n",
       "    </tr>\n",
       "    <tr>\n",
       "      <th>0.30</th>\n",
       "      <th>JOE BROWN JR</th>\n",
       "    </tr>\n",
       "    <tr>\n",
       "      <th>4.17</th>\n",
       "      <th>SERENA HUGHES</th>\n",
       "    </tr>\n",
       "    <tr>\n",
       "      <th>...</th>\n",
       "      <th>...</th>\n",
       "      <th>...</th>\n",
       "    </tr>\n",
       "    <tr>\n",
       "      <th rowspan=\"5\" valign=\"top\">2014</th>\n",
       "      <th>335484.96</th>\n",
       "      <th>Samson Lai</th>\n",
       "    </tr>\n",
       "    <tr>\n",
       "      <th>339653.70</th>\n",
       "      <th>William J Coaker Jr.</th>\n",
       "    </tr>\n",
       "    <tr>\n",
       "      <th>344187.46</th>\n",
       "      <th>Ellen G Moffatt</th>\n",
       "    </tr>\n",
       "    <tr>\n",
       "      <th>390111.98</th>\n",
       "      <th>Amy P Hart</th>\n",
       "    </tr>\n",
       "    <tr>\n",
       "      <th>471952.64</th>\n",
       "      <th>David Shinn</th>\n",
       "    </tr>\n",
       "  </tbody>\n",
       "</table>\n",
       "<p>148648 rows × 0 columns</p>\n",
       "</div>"
      ],
      "text/plain": [
       "Empty DataFrame\n",
       "Columns: []\n",
       "Index: [(2011, 0.0, JOSEPHINE MCCREARY), (2011, 0.0, KAUKAB MOHSIN), (2011, 0.0, PAULETTE ADAMS), (2011, 0.3, JOE BROWN JR), (2011, 4.17, SERENA HUGHES), (2011, 5.8, ROCK CRAWFORD), (2011, 8.86, MARCELLA TUCKER), (2011, 17.42, MARVA MOORE), (2011, 17.78, WALTER WILLIAMS), (2011, 18.78, ANH LUU), (2011, 20.37, GERALDINE DESPANIE), (2011, 21.83, PAUL PELS), (2011, 27.28, AMELIA WILLIAMS), (2011, 27.28, BLOSSOM WONG), (2011, 27.28, GRANGER BALESTRIERI), (2011, 27.28, ISAAC ZIMMERN), (2011, 27.28, KATHERINE BALESTRIERI), (2011, 27.28, PHOEBE LONGHI), (2011, 27.28, SERENA YEE), (2011, 27.28, TESS WILLIAMS), (2011, 27.63, SEAN DOLAN), (2011, 29.25, ALEX AMEND), (2011, 30.25, CAROLINA CALDERON), (2011, 30.25, SHIRLEY MOK), (2011, 31.08, ARIANA VELASCO), (2011, 31.08, DOMINIQUE HOSKINS), (2011, 33.65, LAQUITA GRIFFITHS), (2011, 33.75, ANTHONY LECUE), (2011, 33.75, ANTONIO MORENO), (2011, 33.75, CAMPBELL ALEXANDER), (2011, 33.75, CATHERINE ALLEN), (2011, 33.75, CESAR RIVERO), (2011, 33.75, CLAUDIA LI), (2011, 33.75, MEGHAN OBRIEN), (2011, 33.75, YU TING LI), (2011, 34.59, JESSICA FABRO), (2011, 35.86, CALLI NELSON), (2011, 35.86, GREER LOWERY), (2011, 35.86, MELINDA DE LA CRUZ), (2011, 35.86, ROBYN MACCONNELL), (2011, 35.86, SUSAN SHEETS), (2011, 39.32, JAMILLA CHURCHILL), (2011, 41.08, JENNIFER RYAN), (2011, 42.02, ANTOINETTE GIBSON), (2011, 43.2, STEPHANIE MCSHURLEY), (2011, 45.0, CAROLINE WAMPOLE), (2011, 45.0, MEGAN KURASHIGE), (2011, 45.0, SIDNEY JOHNSON), (2011, 46.0, STEPHANIE SHAKOFSKY), (2011, 46.15, KYLE RHORER), (2011, 47.84, KATIE HASKELL), (2011, 48.34, ROBERT DAVIS), (2011, 50.0, KATHERINE MUNTER), (2011, 52.0, BERNARD SAMPSON), (2011, 55.39, DEANDRA BRYANT), (2011, 56.0, GALINA HYLAND), (2011, 56.0, RAFAEL VALLADARES), (2011, 57.23, RIYAD GHANNAM), (2011, 58.47, ANTHONY JOSLIN), (2011, 59.77, PAULACLAUDIN HOBSON COARD), (2011, 60.61, ROLETTE FINDLEY), (2011, 63.65, ABRAHAM VASQUEZ), (2011, 65.54, JOSEPHINE BAUTISTA), (2011, 67.74, CHRISTIAN HARRIS-ALABANZA), (2011, 67.74, IVAN WOJCIECHOWSKI), (2011, 67.74, LUIS ROCHA CORTES), (2011, 67.74, MICHAEL LEE), (2011, 68.9, ANTHONY SPENCER), (2011, 69.67, ELLIS BROWN), (2011, 70.0, SHOBA DANDILLAYA), (2011, 70.23, FERENC FENYVESI), (2011, 70.39, MORTON BRADLEY), (2011, 72.62, CEPHAS ANDERSON), (2011, 76.26, THOMAS SIMMS), (2011, 76.71, JOSEPH MCGOVERN), (2011, 80.0, RAQUEL MONTOYA), (2011, 80.29, EMERSON STAFFORD), (2011, 83.96, SUSAN MEZGER), (2011, 85.41, JESUS AGREGADO), (2011, 87.64, MARIANNA BALQUIEDRA), (2011, 88.26, HARRY GOTWETTER), (2011, 91.6, JOCELYN MADAMBA), (2011, 92.21, DEBRA TANIS), (2011, 93.8, RUBEN HERNANDEZ JR), (2011, 97.73, CHERI COLLINS), (2011, 98.0, FIAMMA GIGER), (2011, 98.0, LINDSAY PALAIMA), (2011, 98.1, RONALD TERASHIMA), (2011, 99.1, CLARENCE JOHNSON), (2011, 100.0, BETTE LANDIS), (2011, 100.0, JASON ELLIOTT), (2011, 100.0, MATTHEW TUCHOW), (2011, 100.0, SHARON EBERHARDT), (2011, 100.92, JUAN VELIZ SOTO), (2011, 101.75, LEONA WALKER), (2011, 103.36, KEN YANG), (2011, 104.58, RICHARD WRIGHT), (2011, 105.25, FLORISTINE JOHNSON), (2011, 108.75, JASON LO), (2011, 109.38, GLOREEN HEFT), ...]\n",
       "\n",
       "[148648 rows x 0 columns]"
      ]
     },
     "execution_count": 13,
     "metadata": {},
     "output_type": "execute_result"
    }
   ],
   "source": [
    "#top earning employee\n",
    "print('sar')\n",
    "\n",
    "top5 = df[[\"Year\", \"TotalPay\", \"EmployeeName\"]].groupby([\"Year\", \"TotalPay\",\"EmployeeName\"]).agg(\"max\").filter([\"Year\", \"TotalPay\", \"EmployeeName\"])\n",
    "top5"
   ]
  }
 ],
 "metadata": {
  "kernelspec": {
   "display_name": "Python 3 (ipykernel)",
   "language": "python",
   "name": "python3"
  },
  "language_info": {
   "codemirror_mode": {
    "name": "ipython",
    "version": 3
   },
   "file_extension": ".py",
   "mimetype": "text/x-python",
   "name": "python",
   "nbconvert_exporter": "python",
   "pygments_lexer": "ipython3",
   "version": "3.9.12"
  }
 },
 "nbformat": 4,
 "nbformat_minor": 5
}
