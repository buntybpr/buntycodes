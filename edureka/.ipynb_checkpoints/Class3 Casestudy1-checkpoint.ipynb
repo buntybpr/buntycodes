{
 "cells": [
  {
   "cell_type": "code",
   "execution_count": 8,
   "id": "c3e6a9ef",
   "metadata": {},
   "outputs": [],
   "source": [
    "import math\n",
    "import numpy as np"
   ]
  },
  {
   "cell_type": "code",
   "execution_count": 4,
   "id": "a9c38c21",
   "metadata": {},
   "outputs": [
    {
     "name": "stdout",
     "output_type": "stream",
     "text": [
      "Enter direction UP/DOWN/LEFT/RIGHT then step number(eg. UP 5):up 5\n",
      "Enter direction UP/DOWN/LEFT/RIGHT then step number(eg. UP 5):down 3\n",
      "Enter direction UP/DOWN/LEFT/RIGHT then step number(eg. UP 5):left 3\n",
      "Enter direction UP/DOWN/LEFT/RIGHT then step number(eg. UP 5):right 2\n",
      "Enter direction UP/DOWN/LEFT/RIGHT then step number(eg. UP 5):\n",
      "Distance: 2\n"
     ]
    }
   ],
   "source": [
    "#Q1 - ROBOT distance calculation\n",
    "x=y = 0\n",
    "try:\n",
    "    while True:\n",
    "        step = input(\"Enter direction UP/DOWN/LEFT/RIGHT then step number(eg. UP 5):\")\n",
    "        if step == \"\":\n",
    "            break\n",
    "\n",
    "        else:\n",
    "            step = step.split(\" \")\n",
    "            if step[0].upper() == \"UP\":\n",
    "                y = y + int(step[1])\n",
    "            elif step[0].upper() == \"DOWN\":\n",
    "                y = y - int(step[1])\n",
    "            elif step[0].upper() == \"LEFT\":\n",
    "                x = x - int(step[1])\n",
    "            elif step[0].upper() == \"RIGHT\":\n",
    "                x = x + int(step[1])\n",
    "    c = math.sqrt(x**2 + y**2)\n",
    "\n",
    "    print(\"Distance:\", math.floor(c))\n",
    "except e as n:\n",
    "    print('Invalid Input')"
   ]
  },
  {
   "cell_type": "code",
   "execution_count": 11,
   "id": "36dc5aa5",
   "metadata": {},
   "outputs": [
    {
     "name": "stdout",
     "output_type": "stream",
     "text": [
      "Enter list of values separated by comma(,):fsfs,sdfsd,sdfd\n",
      "Enter element to find:22\n",
      "Element not found\n"
     ]
    }
   ],
   "source": [
    "#q2 - Data of XYZ company is stored in the sorted list. Write a program for searching specific data from that list\n",
    "#input eg. 24,30,35,60,80,101\n",
    "try:\n",
    "    inp = input('Enter list of values separated by comma(,):')\n",
    "    i = input('Enter element to find:')\n",
    "    l= inp.split(',')\n",
    "    if i in l:\n",
    "        print(l.index(i)+1)\n",
    "    else:\n",
    "        print(\"Element not found\")\n",
    "except:\n",
    "    print(\"Invalid inputs\")"
   ]
  },
  {
   "cell_type": "code",
   "execution_count": 15,
   "id": "977eb356",
   "metadata": {},
   "outputs": [
    {
     "name": "stdout",
     "output_type": "stream",
     "text": [
      "Day(Light outside)\n"
     ]
    }
   ],
   "source": [
    "#Q3 : Weather forecasting organization wants to show whether is it day or night. So, write a program for such an organization to findwhether is it dark outside or not.\n",
    "from datetime import datetime\n",
    "if datetime.now().hour >5 and datetime.now().hour <18:\n",
    "    print(\"Day(Light outside)\")\n",
    "else:\n",
    "    print(\"Night(Dark outside)\")"
   ]
  },
  {
   "cell_type": "code",
   "execution_count": 45,
   "id": "6664065b",
   "metadata": {},
   "outputs": [
    {
     "name": "stdout",
     "output_type": "stream",
     "text": [
      "Enter 1st Logitude : 21.013166421978095\n",
      "Enter 1st Longitude : 79.02049521773992\n",
      "Enter 2nd Latitude : 21.17642710540516\n",
      "Enter 2nd Longitude : 79.10516719073892\n",
      "Distance between (21.013166421978095, 79.02049521773992) and (21.17642710540516, 79.10516719073892) is 20.16730660150032\n"
     ]
    }
   ],
   "source": [
    "#Q4: Write a program to find the distance between two locations when their latitude and longitudes are given.\n",
    "def geoDistance(lat1, lat2, lon1, lon2):\n",
    "    lon1 = math.radians(lon1)\n",
    "    lon2 = math.radians(lon2)\n",
    "    lat1 = math.radians(lat1)\n",
    "    lat2 = math.radians(lat2)\n",
    "    #print(\"lon1 = {0}\\nLon2= {1}\\nLat1= {2}\\nlat2={3}\".format(lon1,lon2,lat1,lat2))\n",
    "    # Haversine formula\n",
    "    dlon = lon2 - lon1\n",
    "    dlat = lat2 - lat1\n",
    "    #print(\"Longitude distance : {0} and Latitude distance : {1}\".format(dlon,dlat))\n",
    "    a = math.sin(dlat / 2)**2 + math.cos(lat1) * math.cos(lat2) * math.sin(dlon / 2)**2\n",
    " \n",
    "    c = 2 * math.asin(math.sqrt(a))\n",
    "    \n",
    "    # Radius of earth in kilometers. Use 3956 for miles\n",
    "    r = 6371\n",
    "      \n",
    "    # calculate the result\n",
    "    return(c * r)\n",
    "     \n",
    "     \n",
    "# driver code\n",
    "lat1 = input(\"Enter 1st Logitude : \")#eg.   21.013166421978095\n",
    "lon1 = input(\"Enter 1st Longitude : \") #eg. 79.02049521773992\n",
    "lat2 = input(\"Enter 2nd Latitude : \") #eg.  21.17642710540516\n",
    "lon2 = input(\"Enter 2nd Longitude : \") #eg. 79.10516719073892\n",
    "dist = geoDistance(float(lat1), float(lat2), float(lon1), float(lon2))\n",
    "print(\"Distance between ({0}, {1}) and ({2}, {3}) is {4}\".format(lat1,lon1,lat2,lon2,dist))"
   ]
  },
  {
   "cell_type": "code",
   "execution_count": 54,
   "id": "fdad250e",
   "metadata": {},
   "outputs": [
    {
     "name": "stdout",
     "output_type": "stream",
     "text": [
      "********** EDUREKA BANK ATM **********\n",
      "********** Welcome **********\n",
      "\n",
      "Enter your 4-digit pin number.\n",
      ">>> 1234\n",
      "\n",
      "\n",
      "Please select your option from below\n",
      "1. Check your balance\n",
      "2. Withdraw cash\n",
      "3. Deposit cash\n",
      "4. Pin Change\n",
      "5. Mini Statement\n",
      "6. Exit\n",
      "\n",
      "\n",
      ">>> 5\n",
      "****** Mini Statement ******\n",
      "10000 Debited on 2022-10-06 13:26:03.882971\n",
      "Clear Cash Balance now : 10000\n",
      "\n",
      "\n",
      "Please select your option from below\n",
      "1. Check your balance\n",
      "2. Withdraw cash\n",
      "3. Deposit cash\n",
      "4. Pin Change\n",
      "5. Mini Statement\n",
      "6. Exit\n",
      "\n",
      "\n",
      ">>> 3\n",
      "****** Deposit Cash ******\n",
      "Enter amount\n",
      ">>> 2000\n",
      "Available cash balance : 12000\n",
      "\n",
      "\n",
      "Please select your option from below\n",
      "1. Check your balance\n",
      "2. Withdraw cash\n",
      "3. Deposit cash\n",
      "4. Pin Change\n",
      "5. Mini Statement\n",
      "6. Exit\n",
      "\n",
      "\n",
      ">>> 5\n",
      "****** Mini Statement ******\n",
      "10000 Debited on 2022-10-06 13:26:03.882971\n",
      "2000 Credited on 2022-10-06 13:26:10.827025\n",
      "Clear Cash Balance now : 12000\n",
      "\n",
      "\n",
      "Please select your option from below\n",
      "1. Check your balance\n",
      "2. Withdraw cash\n",
      "3. Deposit cash\n",
      "4. Pin Change\n",
      "5. Mini Statement\n",
      "6. Exit\n",
      "\n",
      "\n",
      ">>> 6\n",
      "\n",
      "\n",
      "Thanks for Choosing Edureka Bank.\n",
      "Visit Again.\n"
     ]
    }
   ],
   "source": [
    "#Q5 - Design software for bank systems. There should be options like cash withdrawal, cash credit,and a change password.\n",
    "#According to user input, the software should provide the required output\n",
    "\n",
    "from datetime import datetime\n",
    "# ATM Simulation\n",
    "\n",
    "# defaults\n",
    "DEF_PIN_NUMBER = \"1234\"\n",
    "DEF_CASH_BALANCE = 10000\n",
    "\n",
    "print(\"********** EDUREKA BANK ATM **********\")\n",
    "print(\"********** Welcome **********\\n\")\n",
    "print(\"Enter your 4-digit pin number.\")\n",
    "pin_number = input(\">>> \").strip(\"\")\n",
    "list = [\"10000 Debited on \" + str(datetime.now())]\n",
    "\n",
    "\n",
    "while True:\n",
    "    if DEF_PIN_NUMBER != pin_number:\n",
    "        print(\"Wrong pin number\")\n",
    "        break\n",
    "        #pin_number = input(\">>> \").strip(\"\")\n",
    "    else:    \n",
    "        print(\"\\n\")\n",
    "        print(\"Please select your option from below\")\n",
    "        print(\"1. Check your balance\")\n",
    "        print(\"2. Withdraw cash\")\n",
    "        print(\"3. Deposit cash\")\n",
    "        print(\"4. Pin Change\")\n",
    "        print(\"5. Mini Statement\")\n",
    "        print(\"6. Exit\")\n",
    "        print(\"\\n\")\n",
    "        user_option = input(\">>> \")\n",
    "\n",
    "        if user_option == \"1\":\n",
    "            print(\"****** Cash Balance ******\")\n",
    "            print(\"Your latest balance is : \" + str(DEF_CASH_BALANCE))\n",
    "        elif user_option == \"2\":\n",
    "            print(\"****** Withdraw Cash ******\")\n",
    "            print(\"Enter amount\")\n",
    "            withdraw_amount = int(input(\">>> \"))\n",
    "            if withdraw_amount > DEF_CASH_BALANCE:\n",
    "                print(\"Please select less amount than your cash balance.\")\n",
    "                continue\n",
    "            else:\n",
    "                print(\"****** Please collect cash ******\")\n",
    "                print(str(withdraw_amount))\n",
    "                DEF_CASH_BALANCE -= withdraw_amount\n",
    "                print(\"Available cash balance : \" +\n",
    "                      str(DEF_CASH_BALANCE))\n",
    "                list.append(str(withdraw_amount) + \" Debited on \" +\n",
    "                            str(datetime.now()))\n",
    "                continue\n",
    "        elif user_option == \"3\":\n",
    "            print(\"****** Deposit Cash ******\")\n",
    "            print(\"Enter amount\")\n",
    "            deposit_amount = int(input(\">>> \"))\n",
    "            DEF_CASH_BALANCE += deposit_amount\n",
    "            print(\"Available cash balance : \" +      str(DEF_CASH_BALANCE))\n",
    "            list.append(str(deposit_amount) + \" Credited on \" + str(datetime.now()))\n",
    "            continue\n",
    "        elif user_option == \"4\":\n",
    "            print(\"****** Pin Change ******\")\n",
    "            print(\"Please enter your old pin\")\n",
    "            pin_number = input(\">>> \")\n",
    "            print(\"Please enter new pin number\")\n",
    "            new_pin = input(\">>> \")\n",
    "            print(\"Please re enter new pin number\")\n",
    "            re_new_pin = input(\">>> \")\n",
    "\n",
    "            if pin_number == DEF_PIN_NUMBER and new_pin == re_new_pin:\n",
    "                DEF_PIN_NUMBER = pin_number\n",
    "                print(\"Your pin is successfully changed.\")\n",
    "            else:\n",
    "                print(\"Either old pin is wrong or new pin is not correct\")\n",
    "                print(\"Please re try again\")\n",
    "\n",
    "            continue\n",
    "        elif user_option == \"5\":\n",
    "            print(\"****** Mini Statement ******\")\n",
    "            for item in list:\n",
    "                print(item)\n",
    "            print(\"Clear Cash Balance now : \" + str(DEF_CASH_BALANCE))\n",
    "        elif user_option == \"6\":\n",
    "            print(\"\\n\\nThanks for Choosing Edureka Bank.\\nVisit Again.\")\n",
    "            break\n",
    "        else:\n",
    "            print(\"OOpsss! Seems wrong option. Please reselect option or exit by pressing 5\")"
   ]
  },
  {
   "cell_type": "code",
   "execution_count": 66,
   "id": "10aa92a7",
   "metadata": {},
   "outputs": [
    {
     "name": "stdout",
     "output_type": "stream",
     "text": [
      "2002,2009,2016,2023,2037,2044,2051,2058,2072,2079,2086,2093,2107,2114,2121,2128,2142,2149,2156,2163,2177,2184,2191,2198,2212,2219,2226,2233,2247,2254,2261,2268,2282,2289,2296,2303,2317,2324,2331,2338,2352,2359,2366,2373,2387,2394,2401,2408,2422,2429,2436,2443,2457,2464,2471,2478,2492,2499,2506,2513,2527,2534,2541,2548,2562,2569,2576,2583,2597,2604,2611,2618,2632,2639,2646,2653,2667,2674,2681,2688,2702,2709,2716,2723,2737,2744,2751,2758,2772,2779,2786,2793,2807,2814,2821,2828,2842,2849,2856,2863,2877,2884,2891,2898,2912,2919,2926,2933,2947,2954,2961,2968,2982,2989,2996,3003,3017,3024,3031,3038,3052,3059,3066,3073,3087,3094,3101,3108,3122,3129,3136,3143,3157,3164,3171,3178,3192,3199\n"
     ]
    }
   ],
   "source": [
    "#Q6 - Write a program that will find all such numbers which are divisible by 7 but are not a  multiple  of  5,  between  2000  and  3200  (both  included).  The  numbers  obtained should be printed in a comma-separated sequence on a single line.\n",
    "output=[]\n",
    "i=2000\n",
    "while i<=3200:\n",
    "    if i%7==0 and i%5!=0:\n",
    "      output.append(i)\n",
    "    i+=1\n",
    "strr = \",\".join(map(str,output))\n",
    "print(strr)\n"
   ]
  },
  {
   "cell_type": "code",
   "execution_count": 21,
   "id": "a99caa5d",
   "metadata": {},
   "outputs": [
    {
     "name": "stdout",
     "output_type": "stream",
     "text": [
      "Enter number5\n",
      "Factorial of 5 is 120:\n"
     ]
    }
   ],
   "source": [
    "#Q7 -  Write a program thatcan compute the factorial of a given numb. Use recursion to find it.\n",
    "n = input(\"Enter number\")\n",
    "print(\"Factorial of {0} is {1}:\".format(n, math.factorial(int(n))))"
   ]
  },
  {
   "cell_type": "code",
   "execution_count": 4,
   "id": "c0a889ea",
   "metadata": {},
   "outputs": [
    {
     "name": "stdout",
     "output_type": "stream",
     "text": [
      "Enter values with comma separated: 100,150,180\n",
      "18,22,24\n"
     ]
    }
   ],
   "source": [
    "#Q8 - Write a program that calculates and prints the value according to the given formula:\n",
    "#Q = Square root of [(2 * C * D)/H]Following are the fixed values of C and H: C is 50. H is 30.\n",
    "#D  is  the  variable  whose  values  should  be  input  to  your  program  in  a comma-separatedsequence. \n",
    "#Example:Let  us  assume  the  following comma-separatedinput  sequence  is  given  to  the program:100,150,180\n",
    "#The output of the program should be:18,22,24\n",
    "\n",
    "C= 50\n",
    "H=30\n",
    "s= input(\"Enter values with comma separated: \")#[100,150,180]\n",
    "l=s.split(\",\")\n",
    "s=[]\n",
    "for D in l:\n",
    "    s.append(round(math.sqrt((2 * C * int(D))/H)))\n",
    "print(\",\".join(map(str,s)))"
   ]
  },
  {
   "cell_type": "code",
   "execution_count": 33,
   "id": "baf0f0e7",
   "metadata": {},
   "outputs": [
    {
     "name": "stdout",
     "output_type": "stream",
     "text": [
      "Enter two numbers eg.(3,5) : 4,5\n",
      "[[0, 0, 0, 0, 0], [0, 1, 2, 3, 4], [0, 2, 4, 6, 8], [0, 3, 6, 9, 12]]\n"
     ]
    }
   ],
   "source": [
    "#@9 - Write  a  program that takes  2  digits,  X,Y  as  input  and  generates  a  2-dimensional array. \n",
    "#The element value in the i-th row and j-thcolumn of the array should be i*j.Note: i=0,1.., X-1; j=0,1,¡-Y-1.\n",
    "s = input(\"Enter two numbers eg.(3,5) : \")\n",
    "x=int(s.split(\",\")[0])\n",
    "y=int(s.split(\",\")[1])\n",
    "arr_list=[]\n",
    "for i in range(x):\n",
    "    list_t=[]\n",
    "    for j in range(y):\n",
    "        list_t.append(i*j)\n",
    "    arr_list.append(list_t)\n",
    "print(arr_list)"
   ]
  },
  {
   "cell_type": "code",
   "execution_count": 58,
   "id": "e855c035",
   "metadata": {},
   "outputs": [
    {
     "name": "stdout",
     "output_type": "stream",
     "text": [
      "Enter words in comma seprated : without,hello,bag,world\n",
      "bag,hello,without,world\n"
     ]
    }
   ],
   "source": [
    "#q10 - Write a program that accepts a comma-separatedsequence of words as input and prints the words in a comma-separated sequence after sorting them alphabetically. \n",
    "#without,hello,bag,world\n",
    "#Then, the output should be:bag,hello,without,world\n",
    "st = input(\"Enter words in comma seprated : \") #'without,hello,bag,world'\n",
    "sta = st.split(\",\")\n",
    "#sta.sort()\n",
    "print(','.join(sorted(sta,key=str.lower)))\n"
   ]
  },
  {
   "cell_type": "code",
   "execution_count": 62,
   "id": "68c52504",
   "metadata": {},
   "outputs": [
    {
     "name": "stdout",
     "output_type": "stream",
     "text": [
      "\n",
      "Enter string : bunty is here\n",
      "\n",
      "Enter string : where is bunty\n",
      "\n",
      "Enter string : \n",
      "BUNTY IS HERE\n",
      "WHERE IS BUNTY\n",
      "\n"
     ]
    }
   ],
   "source": [
    "#q11 - Write a program that accepts sequence of lines as input and prints the lines after making all characters in the sentence capitalized.\n",
    "sti = '0'\n",
    "s=[]\n",
    "while sti!='':\n",
    "    sti = input(\"\\nEnter string : \")\n",
    "    s.append(sti)\n",
    "\n",
    "#s=['hello world','sky is blue']\n",
    "for st in s:\n",
    "    print(st.upper())"
   ]
  },
  {
   "cell_type": "code",
   "execution_count": 81,
   "id": "01e568aa",
   "metadata": {},
   "outputs": [
    {
     "name": "stdout",
     "output_type": "stream",
     "text": [
      "Enter string: hello world and practice makes perfect and hello world again\n",
      "again and hello makes perfect practice world\n"
     ]
    }
   ],
   "source": [
    "#q12 - Write a program that accepts a sequence of whitespace-separatedwords as input and   prints   the   words   after   removing   all   duplicate   words   and   sorting   them alphanumerically. \n",
    "s = input(\"Enter string: \") #'hello world and practice makes perfect and hello world again' \n",
    "a=s.split(' ')\n",
    "ss= list(set(a))\n",
    "ss.sort()\n",
    "print(' '.join(ss))"
   ]
  },
  {
   "cell_type": "code",
   "execution_count": 92,
   "id": "97650021",
   "metadata": {},
   "outputs": [
    {
     "name": "stdout",
     "output_type": "stream",
     "text": [
      "Enter comma seperated Binary numbers: 0100,0011,1010,1001\n",
      "1010\n"
     ]
    }
   ],
   "source": [
    "#q13- Write  a  program thataccepts  a  sequence  of  comma  separated  4  digit  binary numbers  as  its  input  \n",
    "#and  then  check  whether  they  are  divisible  by  5  or  not.  \n",
    "#The numbers that are divisible by 5 are to be printed in a comma-separatedsequence.\n",
    "#Example:0100,0011,1010,1001 Then the output should be:1010\n",
    "string = input(\"Enter comma seperated Binary numbers: \")\n",
    "\n",
    "binary_list = string.split(\",\")\n",
    "result_list = [bin_number for bin_number in binary_list if int(bin_number, 2) % 5 == 0]\n",
    "\n",
    "\n",
    "print(\",\".join(result_list))\n",
    "\n"
   ]
  },
  {
   "cell_type": "code",
   "execution_count": 97,
   "id": "fa5eaa27",
   "metadata": {},
   "outputs": [
    {
     "name": "stdout",
     "output_type": "stream",
     "text": [
      "Enter string: bunty isHiksdf\n",
      "UPPER CASE 1 \n",
      "Lower CASE 12\n"
     ]
    }
   ],
   "source": [
    "#q14 - Write a program that accepts a sentence and calculates the number of upper case letters and lower case letters.\n",
    "#Suppose the following input is supplied to the program:Hello world!Then, the output should be:UPPER CASE 1LOWER CASE 915.\n",
    "cnt_upper=0\n",
    "cnt_lower=0\n",
    "s= input('Enter string: ')\n",
    "for i in s:\n",
    "    if i.isupper():\n",
    "       cnt_upper =cnt_upper+1\n",
    "    elif i.islower():\n",
    "        cnt_lower =cnt_lower+1\n",
    "print('UPPER CASE {0} \\nLower CASE {1}'.format(cnt_upper,cnt_lower))"
   ]
  },
  {
   "cell_type": "code",
   "execution_count": 102,
   "id": "56ac3db0",
   "metadata": {},
   "outputs": [
    {
     "name": "stdout",
     "output_type": "stream",
     "text": [
      "fsum of [4, 5, 1] is 10.0\n",
      "sum of [4, 5, 1] is 10\n"
     ]
    }
   ],
   "source": [
    "#q15 - Give an example of the fsum and sum function of the math library.\n",
    "l = [4,5,1]\n",
    "print('fsum of {0} is {1}'.format(l,math.fsum(l)))\n",
    "print('sum of {0} is {1}'.format(l,sum(l)))"
   ]
  }
 ],
 "metadata": {
  "kernelspec": {
   "display_name": "Python 3 (ipykernel)",
   "language": "python",
   "name": "python3"
  },
  "language_info": {
   "codemirror_mode": {
    "name": "ipython",
    "version": 3
   },
   "file_extension": ".py",
   "mimetype": "text/x-python",
   "name": "python",
   "nbconvert_exporter": "python",
   "pygments_lexer": "ipython3",
   "version": "3.9.12"
  }
 },
 "nbformat": 4,
 "nbformat_minor": 5
}
