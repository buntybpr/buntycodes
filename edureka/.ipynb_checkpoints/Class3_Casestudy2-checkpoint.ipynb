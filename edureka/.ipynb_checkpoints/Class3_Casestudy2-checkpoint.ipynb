{
 "cells": [
  {
   "cell_type": "code",
   "execution_count": 1,
   "id": "8df52c1c",
   "metadata": {},
   "outputs": [],
   "source": [
    "import pandas as pd\n",
    "import numpy as np\n",
    "import sys \n",
    "#sys.argv.append('admin.,50')"
   ]
  },
  {
   "cell_type": "markdown",
   "id": "f2842e1a",
   "metadata": {},
   "source": [
    "Get input profession from command line\n",
    "Derive unique profession list\n",
    "if exist then client iseligible to be approached for a marketing campaign"
   ]
  },
  {
   "cell_type": "code",
   "execution_count": 2,
   "id": "1065f0d4",
   "metadata": {},
   "outputs": [],
   "source": [
    "df = pd.read_csv(\"D:/gitrepo/buntycodes/edureka/bank-data.csv\")\n",
    "up = [i.lower() for i in df['job'].unique() ];\n",
    "max_age = df['age'].max()\n",
    "min_age = df['age'].min()"
   ]
  },
  {
   "cell_type": "code",
   "execution_count": 7,
   "id": "327695a3",
   "metadata": {},
   "outputs": [
    {
     "name": "stdout",
     "output_type": "stream",
     "text": [
      "client is eligible to be approached for a marketing campaign\n",
      "Enter another profesion and age to check eligibility else enter End to quit : admin,30\n",
      "client is not eligible to be approached for a marketing campaign\n",
      "Enter another profesion and age to check eligibility else enter End to quit : admin.,30\n",
      "client is eligible to be approached for a marketing campaign\n",
      "Enter another profesion and age to check eligibility else enter End to quit : \n",
      "Program Quit\n"
     ]
    }
   ],
   "source": [
    "def check_eligibility(prof,age):\n",
    "    if prof.lower() in up and (age>=min_age and age<=max_age):\n",
    "        print(\"client is eligible to be approached for a marketing campaign\")\n",
    "    else:\n",
    "        print(\"client is not eligible to be approached for a marketing campaign\")\n",
    "#main()        \n",
    "if len(sys.argv[-1].split(','))>=2:\n",
    "    inp = sys.argv[-1].split(',')[0]\n",
    "    age = sys.argv[-1].split(',')[1]\n",
    "    check_eligibility(inp,int(age))\n",
    "    while True:\n",
    "        inpu = input(\"Enter another profesion and age to check eligibility else enter End to quit : \")\n",
    "        if inpu.lower() == 'end' or inpu=='':\n",
    "            print(\"Program Quit\")\n",
    "            break\n",
    "        else:\n",
    "            if len(inpu.split(','))>=2:\n",
    "                check_eligibility(inpu.split(',')[0],int(inpu.split(',')[1]))       \n",
    "            else:\n",
    "                print(\"Wrong input. Try again..\")\n",
    "else:\n",
    "    print(\"Program quit due to no value or wrong values passed.\")"
   ]
  },
  {
   "cell_type": "code",
   "execution_count": null,
   "id": "d9e79113",
   "metadata": {},
   "outputs": [],
   "source": []
  }
 ],
 "metadata": {
  "kernelspec": {
   "display_name": "Python 3 (ipykernel)",
   "language": "python",
   "name": "python3"
  },
  "language_info": {
   "codemirror_mode": {
    "name": "ipython",
    "version": 3
   },
   "file_extension": ".py",
   "mimetype": "text/x-python",
   "name": "python",
   "nbconvert_exporter": "python",
   "pygments_lexer": "ipython3",
   "version": "3.9.12"
  }
 },
 "nbformat": 4,
 "nbformat_minor": 5
}
