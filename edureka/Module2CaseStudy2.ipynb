{
 "cells": [
  {
   "cell_type": "code",
   "execution_count": 57,
   "id": "7c8845c4",
   "metadata": {},
   "outputs": [
    {
     "name": "stdout",
     "output_type": "stream",
     "text": [
      "4\n"
     ]
    }
   ],
   "source": [
    "#Length of set\n",
    "nums =set([1,1,2,3,3,3,4,4])\n",
    "print(len(nums))"
   ]
  },
  {
   "cell_type": "code",
   "execution_count": 58,
   "id": "468000da",
   "metadata": {},
   "outputs": [
    {
     "name": "stdout",
     "output_type": "stream",
     "text": [
      "['john', 'peter']\n"
     ]
    }
   ],
   "source": [
    "#print dict keys\n",
    "d ={\"john\":40, \"peter\":45}\n",
    "print(list(d.keys()))"
   ]
  },
  {
   "cell_type": "code",
   "execution_count": 111,
   "id": "9d6eacd5",
   "metadata": {},
   "outputs": [
    {
     "name": "stdout",
     "output_type": "stream",
     "text": [
      "Valid password\n"
     ]
    },
    {
     "data": {
      "text/plain": [
       "True"
      ]
     },
     "execution_count": 111,
     "metadata": {},
     "output_type": "execute_result"
    }
   ],
   "source": [
    "#password validation\n",
    "#At least 1 letter between [a-z]2. At least 1 number between [0-9]1. At least 1 letter between [A-Z]\n",
    "def passvalidation(pswd):    \n",
    "    if len(pswd) >=6 and len(pswd) <=12 : #1\n",
    "        if pswd.find('$')>-1 or pswd.find('#')>-1 or pswd.find('@')>-1:#2\n",
    "            if(any(i.isupper() for i in pswd)):#3\n",
    "                if(any(i.islower() for i in pswd)): #4\n",
    "                    if(any(i.isdigit() for i in pswd)):\n",
    "                        print(\"Valid password\")\n",
    "                        return True\n",
    "                    else:\n",
    "                        print(\"Password must contain atlease one number\")\n",
    "                        return False\n",
    "                else: #4\n",
    "                    print(\"Password must contain atlease one lower letter\")\n",
    "                    return False\n",
    "            else : #3\n",
    "                print(\"Password must contain atlease once capital letter\")\n",
    "                return False\n",
    "        else:#2\n",
    "            print(\"Password must contain any one symbol of #@$\")\n",
    "            return False\n",
    "    else :#1\n",
    "        print(\"Password length should between 6 to 12\")\n",
    "        return False\n",
    "passvalidation('Ad1$abdfefe')\n"
   ]
  },
  {
   "cell_type": "code",
   "execution_count": 128,
   "id": "c81c80a1",
   "metadata": {},
   "outputs": [
    {
     "name": "stdout",
     "output_type": "stream",
     "text": [
      "Element value= 4 and it position is=  0\n",
      "Element value= 7 and it position is=  1\n",
      "Element value= 3 and it position is=  2\n",
      "Element value= 2 and it position is=  3\n",
      "Element value= 5 and it position is=  4\n",
      "Element value= 9 and it position is=  5\n"
     ]
    }
   ],
   "source": [
    "#print element and its posion in list\n",
    "a = [4,7,3,2,5,9]\n",
    "for idx,i in enumerate(a):\n",
    "    print('Element value= {} and it position is=  {}'.format(i, idx))"
   ]
  },
  {
   "cell_type": "code",
   "execution_count": 129,
   "id": "80b3efcc",
   "metadata": {},
   "outputs": [
    {
     "name": "stdout",
     "output_type": "stream",
     "text": [
      "Please enter something : H1e2l3l4o5w6o7r8l9d\n",
      "Helloworld\n"
     ]
    }
   ],
   "source": [
    "#Q5 print even index from input eg.H1e2l3l4o5w6o7r8l9d\n",
    "s = input(\"Please enter something : \")\n",
    "print(s[::2])"
   ]
  },
  {
   "cell_type": "code",
   "execution_count": 131,
   "id": "0ca704f6",
   "metadata": {},
   "outputs": [
    {
     "name": "stdout",
     "output_type": "stream",
     "text": [
      "Please enter something : bunty\n",
      "ytnub\n"
     ]
    }
   ],
   "source": [
    "#Q6 print reverse string\n",
    "s = input(\"Please enter something : \")\n",
    "print(s[::-1])"
   ]
  },
  {
   "cell_type": "code",
   "execution_count": 144,
   "id": "6b86859f",
   "metadata": {},
   "outputs": [
    {
     "name": "stdout",
     "output_type": "stream",
     "text": [
      "{'c', 'g', 'a', 'b', 'f', 'e', 'd'}\n",
      "c ,2\n",
      "g ,1\n",
      "a ,2\n",
      "b ,2\n",
      "f ,1\n",
      "e ,1\n",
      "d ,1\n"
     ]
    }
   ],
   "source": [
    "#Q7 print letter with occurence count from string\n",
    "#s = input(\"Please enter something : \")\n",
    "s='abcdefgabc'\n",
    "c = set(s)\n",
    "print(c)\n",
    "for e in c:\n",
    "    print(e,',{}'.format(s.count(e)))"
   ]
  },
  {
   "cell_type": "code",
   "execution_count": 146,
   "id": "68d75e22",
   "metadata": {},
   "outputs": [
    {
     "name": "stdout",
     "output_type": "stream",
     "text": [
      "{35}\n"
     ]
    }
   ],
   "source": [
    "#Q8 lists intersection\n",
    "a= [1,3,6,78,35,55] \n",
    "b= [12,24,35,24,88,120,155]\n",
    "c=set(b).intersection(set(a))\n",
    "print(c)"
   ]
  },
  {
   "cell_type": "code",
   "execution_count": 152,
   "id": "5f8a901c",
   "metadata": {},
   "outputs": [
    {
     "name": "stdout",
     "output_type": "stream",
     "text": [
      "[12, 35, 88, 120, 155]\n"
     ]
    }
   ],
   "source": [
    "#q9 - remove 24 from list [12,24,35,24,88,120,155].\n",
    "l = [12,24,35,24,88,120,155]\n",
    "for i in l:\n",
    "    if i==24:\n",
    "        l.remove(i)     \n",
    "print(l)"
   ]
  },
  {
   "cell_type": "code",
   "execution_count": 163,
   "id": "1f62af24",
   "metadata": {},
   "outputs": [
    {
     "name": "stdout",
     "output_type": "stream",
     "text": [
      "[24, 35, 70, 155]\n"
     ]
    }
   ],
   "source": [
    "#q10  removing the 0th,4th,and 5th numbers in [12,24,35,70,88,120,155].\n",
    "l = [12,24,35,70,88,120,155]\n",
    "newl = [x for (i,x) in enumerate(l) if i not in (0,4,5)]\n",
    "print(newl)"
   ]
  },
  {
   "cell_type": "code",
   "execution_count": 177,
   "id": "ad108b95",
   "metadata": {},
   "outputs": [
    {
     "name": "stdout",
     "output_type": "stream",
     "text": [
      "[12, 24, 88, 120, 155]\n"
     ]
    }
   ],
   "source": [
    "#q11   print the list after removing deletednumbers that are divisible by 5 and 7 in [12,24,35,70,88,120,155] \n",
    "#reult -  [12,24,88,120,155] \n",
    "l = [12,24,35,70,88,120,155]\n",
    "nl = [x for i,x in enumerate(l) if not (x%5==0 and x%7 ==0)]\n",
    "print(nl)"
   ]
  },
  {
   "cell_type": "code",
   "execution_count": 186,
   "id": "b29f8781",
   "metadata": {},
   "outputs": [
    {
     "name": "stdout",
     "output_type": "stream",
     "text": [
      "Enter a number: 5\n",
      "computed value :  3.55\n"
     ]
    }
   ],
   "source": [
    "#q12 compute  1/2+2/3+3/4+...+n/n+1  \n",
    "n = int(input(\"Enter a number: \"))\n",
    "st = 0\n",
    "\n",
    "for each in range(1,n+1):\n",
    "    st = st+(each/(each+1))\n",
    "\n",
    "print(\"computed value : \",format(round(st,2)))"
   ]
  }
 ],
 "metadata": {
  "kernelspec": {
   "display_name": "Python 3 (ipykernel)",
   "language": "python",
   "name": "python3"
  },
  "language_info": {
   "codemirror_mode": {
    "name": "ipython",
    "version": 3
   },
   "file_extension": ".py",
   "mimetype": "text/x-python",
   "name": "python",
   "nbconvert_exporter": "python",
   "pygments_lexer": "ipython3",
   "version": "3.9.12"
  }
 },
 "nbformat": 4,
 "nbformat_minor": 5
}
