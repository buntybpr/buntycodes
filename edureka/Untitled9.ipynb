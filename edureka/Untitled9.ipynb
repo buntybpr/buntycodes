{
 "cells": [
  {
   "cell_type": "code",
   "execution_count": 1,
   "id": "c3e6a9ef",
   "metadata": {},
   "outputs": [],
   "source": [
    "import math"
   ]
  },
  {
   "cell_type": "code",
   "execution_count": 4,
   "id": "a9c38c21",
   "metadata": {},
   "outputs": [
    {
     "name": "stdout",
     "output_type": "stream",
     "text": [
      "Enter direction UP/DOWN/LEFT/RIGHT then step number(eg. UP 5):up 5\n",
      "Enter direction UP/DOWN/LEFT/RIGHT then step number(eg. UP 5):down 3\n",
      "Enter direction UP/DOWN/LEFT/RIGHT then step number(eg. UP 5):left 3\n",
      "Enter direction UP/DOWN/LEFT/RIGHT then step number(eg. UP 5):right 2\n",
      "Enter direction UP/DOWN/LEFT/RIGHT then step number(eg. UP 5):\n",
      "Distance: 2\n"
     ]
    }
   ],
   "source": [
    "#Q1 - ROBOT distance calculation\n",
    "x=y = 0\n",
    "try:\n",
    "    while True:\n",
    "        step = input(\"Enter direction UP/DOWN/LEFT/RIGHT then step number(eg. UP 5):\")\n",
    "        if step == \"\":\n",
    "            break\n",
    "\n",
    "        else:\n",
    "            step = step.split(\" \")\n",
    "            if step[0].upper() == \"UP\":\n",
    "                y = y + int(step[1])\n",
    "            elif step[0].upper() == \"DOWN\":\n",
    "                y = y - int(step[1])\n",
    "            elif step[0].upper() == \"LEFT\":\n",
    "                x = x - int(step[1])\n",
    "            elif step[0].upper() == \"RIGHT\":\n",
    "                x = x + int(step[1])\n",
    "    c = math.sqrt(x**2 + y**2)\n",
    "\n",
    "    print(\"Distance:\", math.floor(c))\n",
    "except e as n:\n",
    "    print('Invalid Input')"
   ]
  },
  {
   "cell_type": "code",
   "execution_count": 11,
   "id": "36dc5aa5",
   "metadata": {},
   "outputs": [
    {
     "name": "stdout",
     "output_type": "stream",
     "text": [
      "Enter list of values separated by comma(,):fsfs,sdfsd,sdfd\n",
      "Enter element to find:22\n",
      "Element not found\n"
     ]
    }
   ],
   "source": [
    "#q2 - Data of XYZ company is stored in the sorted list. Write a program for searching specific data from that list\n",
    "#input eg. 24,30,35,60,80,101\n",
    "try:\n",
    "    inp = input('Enter list of values separated by comma(,):')\n",
    "    i = input('Enter element to find:')\n",
    "    l= inp.split(',')\n",
    "    if i in l:\n",
    "        print(l.index(i)+1)\n",
    "    else:\n",
    "        print(\"Element not found\")\n",
    "except:\n",
    "    print(\"Invalid inputs\")"
   ]
  },
  {
   "cell_type": "code",
   "execution_count": 15,
   "id": "977eb356",
   "metadata": {},
   "outputs": [
    {
     "name": "stdout",
     "output_type": "stream",
     "text": [
      "Day(Light outside)\n"
     ]
    }
   ],
   "source": [
    "#Q3 : Weather forecasting organization wants to show whether is it day or night. So, write a program for such an organization to findwhether is it dark outside or not.\n",
    "from datetime import datetime\n",
    "if datetime.now().hour >5 and datetime.now().hour <18:\n",
    "    print(\"Day(Light outside)\")\n",
    "else:\n",
    "    print(\"Night(Dark outside)\")"
   ]
  },
  {
   "cell_type": "code",
   "execution_count": 45,
   "id": "6664065b",
   "metadata": {},
   "outputs": [
    {
     "name": "stdout",
     "output_type": "stream",
     "text": [
      "Enter 1st Logitude : 21.013166421978095\n",
      "Enter 1st Longitude : 79.02049521773992\n",
      "Enter 2nd Latitude : 21.17642710540516\n",
      "Enter 2nd Longitude : 79.10516719073892\n",
      "Distance between (21.013166421978095, 79.02049521773992) and (21.17642710540516, 79.10516719073892) is 20.16730660150032\n"
     ]
    }
   ],
   "source": [
    "#Q4: Write a program to find the distance between two locations when their latitude and longitudes are given.\n",
    "def geoDistance(lat1, lat2, lon1, lon2):\n",
    "    lon1 = math.radians(lon1)\n",
    "    lon2 = math.radians(lon2)\n",
    "    lat1 = math.radians(lat1)\n",
    "    lat2 = math.radians(lat2)\n",
    "    #print(\"lon1 = {0}\\nLon2= {1}\\nLat1= {2}\\nlat2={3}\".format(lon1,lon2,lat1,lat2))\n",
    "    # Haversine formula\n",
    "    dlon = lon2 - lon1\n",
    "    dlat = lat2 - lat1\n",
    "    #print(\"Longitude distance : {0} and Latitude distance : {1}\".format(dlon,dlat))\n",
    "    a = math.sin(dlat / 2)**2 + math.cos(lat1) * math.cos(lat2) * math.sin(dlon / 2)**2\n",
    " \n",
    "    c = 2 * math.asin(math.sqrt(a))\n",
    "    \n",
    "    # Radius of earth in kilometers. Use 3956 for miles\n",
    "    r = 6371\n",
    "      \n",
    "    # calculate the result\n",
    "    return(c * r)\n",
    "     \n",
    "     \n",
    "# driver code\n",
    "lat1 = input(\"Enter 1st Logitude : \")#eg.   21.013166421978095\n",
    "lon1 = input(\"Enter 1st Longitude : \") #eg. 79.02049521773992\n",
    "lat2 = input(\"Enter 2nd Latitude : \") #eg.  21.17642710540516\n",
    "lon2 = input(\"Enter 2nd Longitude : \") #eg. 79.10516719073892\n",
    "dist = geoDistance(float(lat1), float(lat2), float(lon1), float(lon2))\n",
    "print(\"Distance between ({0}, {1}) and ({2}, {3}) is {4}\".format(lat1,lon1,lat2,lon2,dist))"
   ]
  },
  {
   "cell_type": "code",
   "execution_count": 54,
   "id": "fdad250e",
   "metadata": {},
   "outputs": [
    {
     "name": "stdout",
     "output_type": "stream",
     "text": [
      "********** EDUREKA BANK ATM **********\n",
      "********** Welcome **********\n",
      "\n",
      "Enter your 4-digit pin number.\n",
      ">>> 1234\n",
      "\n",
      "\n",
      "Please select your option from below\n",
      "1. Check your balance\n",
      "2. Withdraw cash\n",
      "3. Deposit cash\n",
      "4. Pin Change\n",
      "5. Mini Statement\n",
      "6. Exit\n",
      "\n",
      "\n",
      ">>> 5\n",
      "****** Mini Statement ******\n",
      "10000 Debited on 2022-10-06 13:26:03.882971\n",
      "Clear Cash Balance now : 10000\n",
      "\n",
      "\n",
      "Please select your option from below\n",
      "1. Check your balance\n",
      "2. Withdraw cash\n",
      "3. Deposit cash\n",
      "4. Pin Change\n",
      "5. Mini Statement\n",
      "6. Exit\n",
      "\n",
      "\n",
      ">>> 3\n",
      "****** Deposit Cash ******\n",
      "Enter amount\n",
      ">>> 2000\n",
      "Available cash balance : 12000\n",
      "\n",
      "\n",
      "Please select your option from below\n",
      "1. Check your balance\n",
      "2. Withdraw cash\n",
      "3. Deposit cash\n",
      "4. Pin Change\n",
      "5. Mini Statement\n",
      "6. Exit\n",
      "\n",
      "\n",
      ">>> 5\n",
      "****** Mini Statement ******\n",
      "10000 Debited on 2022-10-06 13:26:03.882971\n",
      "2000 Credited on 2022-10-06 13:26:10.827025\n",
      "Clear Cash Balance now : 12000\n",
      "\n",
      "\n",
      "Please select your option from below\n",
      "1. Check your balance\n",
      "2. Withdraw cash\n",
      "3. Deposit cash\n",
      "4. Pin Change\n",
      "5. Mini Statement\n",
      "6. Exit\n",
      "\n",
      "\n",
      ">>> 6\n",
      "\n",
      "\n",
      "Thanks for Choosing Edureka Bank.\n",
      "Visit Again.\n"
     ]
    }
   ],
   "source": [
    "#Q5 - Design software for bank systems. There should be options like cash withdrawal, cash credit,and a change password.\n",
    "#According to user input, the software should provide the required output\n",
    "\n",
    "from datetime import datetime\n",
    "# ATM Simulation\n",
    "\n",
    "# defaults\n",
    "DEF_PIN_NUMBER = \"1234\"\n",
    "DEF_CASH_BALANCE = 10000\n",
    "\n",
    "print(\"********** EDUREKA BANK ATM **********\")\n",
    "print(\"********** Welcome **********\\n\")\n",
    "print(\"Enter your 4-digit pin number.\")\n",
    "pin_number = input(\">>> \").strip(\"\")\n",
    "list = [\"10000 Debited on \" + str(datetime.now())]\n",
    "\n",
    "\n",
    "while True:\n",
    "    if DEF_PIN_NUMBER != pin_number:\n",
    "        print(\"Wrong pin number\")\n",
    "        break\n",
    "        #pin_number = input(\">>> \").strip(\"\")\n",
    "    else:    \n",
    "        print(\"\\n\")\n",
    "        print(\"Please select your option from below\")\n",
    "        print(\"1. Check your balance\")\n",
    "        print(\"2. Withdraw cash\")\n",
    "        print(\"3. Deposit cash\")\n",
    "        print(\"4. Pin Change\")\n",
    "        print(\"5. Mini Statement\")\n",
    "        print(\"6. Exit\")\n",
    "        print(\"\\n\")\n",
    "        user_option = input(\">>> \")\n",
    "\n",
    "        if user_option == \"1\":\n",
    "            print(\"****** Cash Balance ******\")\n",
    "            print(\"Your latest balance is : \" + str(DEF_CASH_BALANCE))\n",
    "        elif user_option == \"2\":\n",
    "            print(\"****** Withdraw Cash ******\")\n",
    "            print(\"Enter amount\")\n",
    "            withdraw_amount = int(input(\">>> \"))\n",
    "            if withdraw_amount > DEF_CASH_BALANCE:\n",
    "                print(\"Please select less amount than your cash balance.\")\n",
    "                continue\n",
    "            else:\n",
    "                print(\"****** Please collect cash ******\")\n",
    "                print(str(withdraw_amount))\n",
    "                DEF_CASH_BALANCE -= withdraw_amount\n",
    "                print(\"Available cash balance : \" +\n",
    "                      str(DEF_CASH_BALANCE))\n",
    "                list.append(str(withdraw_amount) + \" Debited on \" +\n",
    "                            str(datetime.now()))\n",
    "                continue\n",
    "        elif user_option == \"3\":\n",
    "            print(\"****** Deposit Cash ******\")\n",
    "            print(\"Enter amount\")\n",
    "            deposit_amount = int(input(\">>> \"))\n",
    "            DEF_CASH_BALANCE += deposit_amount\n",
    "            print(\"Available cash balance : \" +      str(DEF_CASH_BALANCE))\n",
    "            list.append(str(deposit_amount) + \" Credited on \" + str(datetime.now()))\n",
    "            continue\n",
    "        elif user_option == \"4\":\n",
    "            print(\"****** Pin Change ******\")\n",
    "            print(\"Please enter your old pin\")\n",
    "            pin_number = input(\">>> \")\n",
    "            print(\"Please enter new pin number\")\n",
    "            new_pin = input(\">>> \")\n",
    "            print(\"Please re enter new pin number\")\n",
    "            re_new_pin = input(\">>> \")\n",
    "\n",
    "            if pin_number == DEF_PIN_NUMBER and new_pin == re_new_pin:\n",
    "                DEF_PIN_NUMBER = pin_number\n",
    "                print(\"Your pin is successfully changed.\")\n",
    "            else:\n",
    "                print(\"Either old pin is wrong or new pin is not correct\")\n",
    "                print(\"Please re try again\")\n",
    "\n",
    "            continue\n",
    "        elif user_option == \"5\":\n",
    "            print(\"****** Mini Statement ******\")\n",
    "            for item in list:\n",
    "                print(item)\n",
    "            print(\"Clear Cash Balance now : \" + str(DEF_CASH_BALANCE))\n",
    "        elif user_option == \"6\":\n",
    "            print(\"\\n\\nThanks for Choosing Edureka Bank.\\nVisit Again.\")\n",
    "            break\n",
    "        else:\n",
    "            print(\"OOpsss! Seems wrong option. Please reselect option or exit by pressing 5\")"
   ]
  },
  {
   "cell_type": "code",
   "execution_count": 66,
   "id": "10aa92a7",
   "metadata": {},
   "outputs": [
    {
     "name": "stdout",
     "output_type": "stream",
     "text": [
      "2002,2009,2016,2023,2037,2044,2051,2058,2072,2079,2086,2093,2107,2114,2121,2128,2142,2149,2156,2163,2177,2184,2191,2198,2212,2219,2226,2233,2247,2254,2261,2268,2282,2289,2296,2303,2317,2324,2331,2338,2352,2359,2366,2373,2387,2394,2401,2408,2422,2429,2436,2443,2457,2464,2471,2478,2492,2499,2506,2513,2527,2534,2541,2548,2562,2569,2576,2583,2597,2604,2611,2618,2632,2639,2646,2653,2667,2674,2681,2688,2702,2709,2716,2723,2737,2744,2751,2758,2772,2779,2786,2793,2807,2814,2821,2828,2842,2849,2856,2863,2877,2884,2891,2898,2912,2919,2926,2933,2947,2954,2961,2968,2982,2989,2996,3003,3017,3024,3031,3038,3052,3059,3066,3073,3087,3094,3101,3108,3122,3129,3136,3143,3157,3164,3171,3178,3192,3199\n"
     ]
    }
   ],
   "source": [
    "#Q6 - Write a program that will find all such numbers which are divisible by 7 but are not a  multiple  of  5,  between  2000  and  3200  (both  included).  The  numbers  obtained should be printed in a comma-separated sequence on a single line.\n",
    "output=[]\n",
    "i=2000\n",
    "while i<=3200:\n",
    "    if i%7==0 and i%5!=0:\n",
    "      output.append(i)\n",
    "    i+=1\n",
    "strr = \",\".join(map(str,output))\n",
    "print(strr)\n"
   ]
  },
  {
   "cell_type": "code",
   "execution_count": 67,
   "id": "a99caa5d",
   "metadata": {},
   "outputs": [
    {
     "ename": "SyntaxError",
     "evalue": "invalid syntax (541307772.py, line 5)",
     "output_type": "error",
     "traceback": [
      "\u001b[1;36m  Input \u001b[1;32mIn [67]\u001b[1;36m\u001b[0m\n\u001b[1;33m    res =+ i**\u001b[0m\n\u001b[1;37m              ^\u001b[0m\n\u001b[1;31mSyntaxError\u001b[0m\u001b[1;31m:\u001b[0m invalid syntax\n"
     ]
    }
   ],
   "source": [
    "#Q7 -  Write a program thatcan compute the factorial of a given numb. Use recursion to find it.\n",
    "n = 8\n",
    "res=0\n",
    "for i in n:\n",
    "    res =+ i**\n",
    "print(res)"
   ]
  }
 ],
 "metadata": {
  "kernelspec": {
   "display_name": "Python 3 (ipykernel)",
   "language": "python",
   "name": "python3"
  },
  "language_info": {
   "codemirror_mode": {
    "name": "ipython",
    "version": 3
   },
   "file_extension": ".py",
   "mimetype": "text/x-python",
   "name": "python",
   "nbconvert_exporter": "python",
   "pygments_lexer": "ipython3",
   "version": "3.9.12"
  }
 },
 "nbformat": 4,
 "nbformat_minor": 5
}
